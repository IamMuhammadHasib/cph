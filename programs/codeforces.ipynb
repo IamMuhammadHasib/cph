{
 "cells": [
  {
   "cell_type": "code",
   "execution_count": 1,
   "metadata": {},
   "outputs": [],
   "source": [
    "import requests\n",
    "import csv\n",
    "import datetime\n",
    "pre='https://codeforces.com/api/user.status?handle='\n",
    "handle=['jahirul']\n",
    "suff='&from=1&count=1000'\n",
    "headers= {\n",
    "    'Accept': 'application/json',\n",
    "    'Content-Type': 'apllication/json'\n",
    "}\n",
    "for i in range(len(handle)):\n",
    "        url=pre+handle[i]+suff\n",
    "        response=requests.request(\"GET\",url,headers=headers,data={})\n",
    "        myjson=response.json()\n",
    "        ourdata=[]\n",
    "        csvheader=[' Submission ID ','  Username  ','Problem_Name  ','Language','Verdict','Date']\n",
    "        for x in myjson['result']:\n",
    "            date=datetime.datetime.fromtimestamp(int(x['creationTimeSeconds']))\n",
    "            lisiting=[x['id'],handle[i],x['problem']['name'],x['programmingLanguage'],x['verdict'],date]\n",
    "            ourdata.append(lisiting)\n",
    "        with open('codeforces'+'.csv','w',encoding='UTF8',newline='') as f:\n",
    "            writer=csv.writer(f)\n",
    "            writer.writerow(csvheader)\n",
    "            writer.writerows(ourdata)"
   ]
  },
  {
   "cell_type": "code",
   "execution_count": null,
   "metadata": {},
   "outputs": [],
   "source": []
  }
 ],
 "metadata": {
  "kernelspec": {
   "display_name": "dip",
   "language": "python",
   "name": "python3"
  },
  "language_info": {
   "codemirror_mode": {
    "name": "ipython",
    "version": 3
   },
   "file_extension": ".py",
   "mimetype": "text/x-python",
   "name": "python",
   "nbconvert_exporter": "python",
   "pygments_lexer": "ipython3",
   "version": "3.10.4"
  },
  "orig_nbformat": 4,
  "vscode": {
   "interpreter": {
    "hash": "5b7af7df76dd28f39e590ca64931815524d457a526da98c0f782a62c3ef89caa"
   }
  }
 },
 "nbformat": 4,
 "nbformat_minor": 2
}
