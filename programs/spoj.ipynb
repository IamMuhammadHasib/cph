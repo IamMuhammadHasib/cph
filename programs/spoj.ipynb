{
 "cells": [
  {
   "cell_type": "code",
   "execution_count": 18,
   "metadata": {},
   "outputs": [],
   "source": [
    "import requests\n",
    "from bs4 import BeautifulSoup\n",
    "import csv\n",
    "\n",
    "url = \"https://www.spoj.com/status/xilinx/all/start=0\"\n",
    "\n",
    "response = requests.get(url)\n",
    "\n",
    "soup = BeautifulSoup(response.text, 'html.parser')\n",
    "\n",
    "table = soup.find('tbody')\n",
    "# table = soup.find('tbody', {'class': 'problems table newstatus'})\n",
    "\n",
    "# header = [cell.text for cell in table.find_all('th')]\n",
    "rows = []\n",
    "for row in table.find_all('tr')[0:]:\n",
    "    tdata = [cell.text for cell in row.find_all('td')]\n",
    "    data = tdata[:-3]\n",
    "    data += tdata[-1:]\n",
    "    \n",
    "    tem = []\n",
    "    for d in data:\n",
    "        d = d.replace(\"\\t\", \"\")\n",
    "        d = d.replace(\"   \", \"\")\n",
    "        tem.append(d.replace(\"\\n\", \"\"))\n",
    "\n",
    "    rows.append(tem)\n",
    "    # break\n",
    "\n",
    "filename = \"spoj.csv\"\n",
    "with open(filename, 'w', newline='') as file:\n",
    "    writer = csv.writer(file)\n",
    "    # writer.writerow(header)\n",
    "    writer.writerows(rows)\n"
   ]
  },
  {
   "cell_type": "code",
   "execution_count": null,
   "metadata": {},
   "outputs": [],
   "source": []
  }
 ],
 "metadata": {
  "kernelspec": {
   "display_name": "dip",
   "language": "python",
   "name": "python3"
  },
  "language_info": {
   "codemirror_mode": {
    "name": "ipython",
    "version": 3
   },
   "file_extension": ".py",
   "mimetype": "text/x-python",
   "name": "python",
   "nbconvert_exporter": "python",
   "pygments_lexer": "ipython3",
   "version": "3.10.4 | packaged by conda-forge | (main, Mar 30 2022, 08:38:02) [MSC v.1916 64 bit (AMD64)]"
  },
  "orig_nbformat": 4,
  "vscode": {
   "interpreter": {
    "hash": "5b7af7df76dd28f39e590ca64931815524d457a526da98c0f782a62c3ef89caa"
   }
  }
 },
 "nbformat": 4,
 "nbformat_minor": 2
}
