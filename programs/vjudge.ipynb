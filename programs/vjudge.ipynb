{
 "cells": [
  {
   "cell_type": "code",
   "execution_count": 1,
   "metadata": {},
   "outputs": [],
   "source": [
    "import requests\n",
    "import csv\n",
    "from datetime import datetime\n",
    "\n",
    "vjudge_user_name=['humayunraj789']\n",
    "headers= {\n",
    "    'Accept': 'application/json',\n",
    "    'Content-Type': 'apllication/json'\n",
    "}\n",
    "for i in range(1):\n",
    "        url=\"https://vjudge.net/status/data?draw=1&start=0&length=20&un=\"+vjudge_user_name[i]+\"&OJId=All&probNum=&res=0&language=&onlyFollowee=false&orderBy=run_id&20paging_simple_numbers=1&Mine=6&_=167539930135\"\n",
    "        response=requests.request(\"GET\",url,headers=headers,data={})\n",
    "        myjson=response.json()\n",
    "        ourdata=[]\n",
    "        csvheader=['UserName','OJ','Problem_Name','Result','Language','Submission_Time']\n",
    "        for x in myjson['data']:\n",
    "            unixToDatetime =datetime.fromtimestamp((x['time']/1000))\n",
    "            # print(unixToDatetime)\n",
    "            lisiting=[x['userName'],x['oj'],x['probNum'],x['status'],x['language'],unixToDatetime]\n",
    "            ourdata.append(lisiting)\n",
    "        with open('vjudge.csv','w',encoding='UTF8',newline='') as f:\n",
    "            writer=csv.writer(f)\n",
    "            writer.writerow(csvheader)\n",
    "            writer.writerows(ourdata)\n"
   ]
  },
  {
   "cell_type": "code",
   "execution_count": null,
   "metadata": {},
   "outputs": [],
   "source": []
  }
 ],
 "metadata": {
  "kernelspec": {
   "display_name": "dip",
   "language": "python",
   "name": "python3"
  },
  "language_info": {
   "codemirror_mode": {
    "name": "ipython",
    "version": 3
   },
   "file_extension": ".py",
   "mimetype": "text/x-python",
   "name": "python",
   "nbconvert_exporter": "python",
   "pygments_lexer": "ipython3",
   "version": "3.10.4"
  },
  "orig_nbformat": 4,
  "vscode": {
   "interpreter": {
    "hash": "5b7af7df76dd28f39e590ca64931815524d457a526da98c0f782a62c3ef89caa"
   }
  }
 },
 "nbformat": 4,
 "nbformat_minor": 2
}
